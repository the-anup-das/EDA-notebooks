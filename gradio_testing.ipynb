{
  "nbformat": 4,
  "nbformat_minor": 0,
  "metadata": {
    "colab": {
      "provenance": []
    },
    "kernelspec": {
      "name": "python3",
      "display_name": "Python 3"
    },
    "language_info": {
      "name": "python"
    }
  },
  "cells": [
    {
      "cell_type": "code",
      "source": [
        "%pip install gradio"
      ],
      "metadata": {
        "colab": {
          "base_uri": "https://localhost:8080/"
        },
        "id": "LURAC-k23pGa",
        "outputId": "bde1b754-585a-4f7a-8d43-f5a870ed6fd7"
      },
      "execution_count": 2,
      "outputs": [
        {
          "output_type": "stream",
          "name": "stdout",
          "text": [
            "Collecting gradio\n",
            "  Downloading gradio-3.36.1-py3-none-any.whl (19.8 MB)\n",
            "\u001b[2K     \u001b[90m━━━━━━━━━━━━━━━━━━━━━━━━━━━━━━━━━━━━━━━━\u001b[0m \u001b[32m19.8/19.8 MB\u001b[0m \u001b[31m69.6 MB/s\u001b[0m eta \u001b[36m0:00:00\u001b[0m\n",
            "\u001b[?25hCollecting aiofiles (from gradio)\n",
            "  Downloading aiofiles-23.1.0-py3-none-any.whl (14 kB)\n",
            "Requirement already satisfied: aiohttp in /usr/local/lib/python3.10/dist-packages (from gradio) (3.8.4)\n",
            "Requirement already satisfied: altair>=4.2.0 in /usr/local/lib/python3.10/dist-packages (from gradio) (4.2.2)\n",
            "Collecting fastapi (from gradio)\n",
            "  Downloading fastapi-0.100.0-py3-none-any.whl (65 kB)\n",
            "\u001b[2K     \u001b[90m━━━━━━━━━━━━━━━━━━━━━━━━━━━━━━━━━━━━━━━━\u001b[0m \u001b[32m65.7/65.7 kB\u001b[0m \u001b[31m7.5 MB/s\u001b[0m eta \u001b[36m0:00:00\u001b[0m\n",
            "\u001b[?25hCollecting ffmpy (from gradio)\n",
            "  Downloading ffmpy-0.3.0.tar.gz (4.8 kB)\n",
            "  Preparing metadata (setup.py) ... \u001b[?25l\u001b[?25hdone\n",
            "Collecting gradio-client>=0.2.7 (from gradio)\n",
            "  Downloading gradio_client-0.2.9-py3-none-any.whl (288 kB)\n",
            "\u001b[2K     \u001b[90m━━━━━━━━━━━━━━━━━━━━━━━━━━━━━━━━━━━━━━\u001b[0m \u001b[32m288.8/288.8 kB\u001b[0m \u001b[31m32.2 MB/s\u001b[0m eta \u001b[36m0:00:00\u001b[0m\n",
            "\u001b[?25hCollecting httpx (from gradio)\n",
            "  Downloading httpx-0.24.1-py3-none-any.whl (75 kB)\n",
            "\u001b[2K     \u001b[90m━━━━━━━━━━━━━━━━━━━━━━━━━━━━━━━━━━━━━━━━\u001b[0m \u001b[32m75.4/75.4 kB\u001b[0m \u001b[31m8.7 MB/s\u001b[0m eta \u001b[36m0:00:00\u001b[0m\n",
            "\u001b[?25hCollecting huggingface-hub>=0.14.0 (from gradio)\n",
            "  Downloading huggingface_hub-0.16.4-py3-none-any.whl (268 kB)\n",
            "\u001b[2K     \u001b[90m━━━━━━━━━━━━━━━━━━━━━━━━━━━━━━━━━━━━━━\u001b[0m \u001b[32m268.8/268.8 kB\u001b[0m \u001b[31m28.0 MB/s\u001b[0m eta \u001b[36m0:00:00\u001b[0m\n",
            "\u001b[?25hRequirement already satisfied: jinja2 in /usr/local/lib/python3.10/dist-packages (from gradio) (3.1.2)\n",
            "Requirement already satisfied: markdown-it-py[linkify]>=2.0.0 in /usr/local/lib/python3.10/dist-packages (from gradio) (3.0.0)\n",
            "Requirement already satisfied: markupsafe in /usr/local/lib/python3.10/dist-packages (from gradio) (2.1.3)\n",
            "Requirement already satisfied: matplotlib in /usr/local/lib/python3.10/dist-packages (from gradio) (3.7.1)\n",
            "Collecting mdit-py-plugins<=0.3.3 (from gradio)\n",
            "  Downloading mdit_py_plugins-0.3.3-py3-none-any.whl (50 kB)\n",
            "\u001b[2K     \u001b[90m━━━━━━━━━━━━━━━━━━━━━━━━━━━━━━━━━━━━━━━━\u001b[0m \u001b[32m50.5/50.5 kB\u001b[0m \u001b[31m5.8 MB/s\u001b[0m eta \u001b[36m0:00:00\u001b[0m\n",
            "\u001b[?25hRequirement already satisfied: numpy in /usr/local/lib/python3.10/dist-packages (from gradio) (1.22.4)\n",
            "Collecting orjson (from gradio)\n",
            "  Downloading orjson-3.9.2-cp310-cp310-manylinux_2_17_x86_64.manylinux2014_x86_64.whl (138 kB)\n",
            "\u001b[2K     \u001b[90m━━━━━━━━━━━━━━━━━━━━━━━━━━━━━━━━━━━━━━\u001b[0m \u001b[32m138.7/138.7 kB\u001b[0m \u001b[31m16.5 MB/s\u001b[0m eta \u001b[36m0:00:00\u001b[0m\n",
            "\u001b[?25hRequirement already satisfied: pandas in /usr/local/lib/python3.10/dist-packages (from gradio) (1.5.3)\n",
            "Requirement already satisfied: pillow in /usr/local/lib/python3.10/dist-packages (from gradio) (8.4.0)\n",
            "Requirement already satisfied: pydantic in /usr/local/lib/python3.10/dist-packages (from gradio) (1.10.11)\n",
            "Collecting pydub (from gradio)\n",
            "  Downloading pydub-0.25.1-py2.py3-none-any.whl (32 kB)\n",
            "Requirement already satisfied: pygments>=2.12.0 in /usr/local/lib/python3.10/dist-packages (from gradio) (2.14.0)\n",
            "Collecting python-multipart (from gradio)\n",
            "  Downloading python_multipart-0.0.6-py3-none-any.whl (45 kB)\n",
            "\u001b[2K     \u001b[90m━━━━━━━━━━━━━━━━━━━━━━━━━━━━━━━━━━━━━━━━\u001b[0m \u001b[32m45.7/45.7 kB\u001b[0m \u001b[31m5.1 MB/s\u001b[0m eta \u001b[36m0:00:00\u001b[0m\n",
            "\u001b[?25hRequirement already satisfied: pyyaml in /usr/local/lib/python3.10/dist-packages (from gradio) (6.0)\n",
            "Requirement already satisfied: requests in /usr/local/lib/python3.10/dist-packages (from gradio) (2.27.1)\n",
            "Collecting semantic-version (from gradio)\n",
            "  Downloading semantic_version-2.10.0-py2.py3-none-any.whl (15 kB)\n",
            "Collecting uvicorn>=0.14.0 (from gradio)\n",
            "  Downloading uvicorn-0.23.0-py3-none-any.whl (59 kB)\n",
            "\u001b[2K     \u001b[90m━━━━━━━━━━━━━━━━━━━━━━━━━━━━━━━━━━━━━━━━\u001b[0m \u001b[32m59.6/59.6 kB\u001b[0m \u001b[31m6.4 MB/s\u001b[0m eta \u001b[36m0:00:00\u001b[0m\n",
            "\u001b[?25hCollecting websockets>=10.0 (from gradio)\n",
            "  Downloading websockets-11.0.3-cp310-cp310-manylinux_2_5_x86_64.manylinux1_x86_64.manylinux_2_17_x86_64.manylinux2014_x86_64.whl (129 kB)\n",
            "\u001b[2K     \u001b[90m━━━━━━━━━━━━━━━━━━━━━━━━━━━━━━━━━━━━━━\u001b[0m \u001b[32m129.9/129.9 kB\u001b[0m \u001b[31m13.7 MB/s\u001b[0m eta \u001b[36m0:00:00\u001b[0m\n",
            "\u001b[?25hRequirement already satisfied: entrypoints in /usr/local/lib/python3.10/dist-packages (from altair>=4.2.0->gradio) (0.4)\n",
            "Requirement already satisfied: jsonschema>=3.0 in /usr/local/lib/python3.10/dist-packages (from altair>=4.2.0->gradio) (4.3.3)\n",
            "Requirement already satisfied: toolz in /usr/local/lib/python3.10/dist-packages (from altair>=4.2.0->gradio) (0.12.0)\n",
            "Requirement already satisfied: fsspec in /usr/local/lib/python3.10/dist-packages (from gradio-client>=0.2.7->gradio) (2023.6.0)\n",
            "Requirement already satisfied: packaging in /usr/local/lib/python3.10/dist-packages (from gradio-client>=0.2.7->gradio) (23.1)\n",
            "Requirement already satisfied: typing-extensions in /usr/local/lib/python3.10/dist-packages (from gradio-client>=0.2.7->gradio) (4.7.1)\n",
            "Requirement already satisfied: filelock in /usr/local/lib/python3.10/dist-packages (from huggingface-hub>=0.14.0->gradio) (3.12.2)\n",
            "Requirement already satisfied: tqdm>=4.42.1 in /usr/local/lib/python3.10/dist-packages (from huggingface-hub>=0.14.0->gradio) (4.65.0)\n",
            "Requirement already satisfied: mdurl~=0.1 in /usr/local/lib/python3.10/dist-packages (from markdown-it-py[linkify]>=2.0.0->gradio) (0.1.2)\n",
            "Collecting linkify-it-py<3,>=1 (from markdown-it-py[linkify]>=2.0.0->gradio)\n",
            "  Downloading linkify_it_py-2.0.2-py3-none-any.whl (19 kB)\n",
            "INFO: pip is looking at multiple versions of mdit-py-plugins to determine which version is compatible with other requirements. This could take a while.\n",
            "Collecting mdit-py-plugins<=0.3.3 (from gradio)\n",
            "  Downloading mdit_py_plugins-0.3.2-py3-none-any.whl (50 kB)\n",
            "\u001b[2K     \u001b[90m━━━━━━━━━━━━━━━━━━━━━━━━━━━━━━━━━━━━━━━━\u001b[0m \u001b[32m50.4/50.4 kB\u001b[0m \u001b[31m5.3 MB/s\u001b[0m eta \u001b[36m0:00:00\u001b[0m\n",
            "\u001b[?25h  Downloading mdit_py_plugins-0.3.1-py3-none-any.whl (46 kB)\n",
            "\u001b[2K     \u001b[90m━━━━━━━━━━━━━━━━━━━━━━━━━━━━━━━━━━━━━━━━\u001b[0m \u001b[32m46.5/46.5 kB\u001b[0m \u001b[31m5.1 MB/s\u001b[0m eta \u001b[36m0:00:00\u001b[0m\n",
            "\u001b[?25h  Downloading mdit_py_plugins-0.3.0-py3-none-any.whl (43 kB)\n",
            "\u001b[2K     \u001b[90m━━━━━━━━━━━━━━━━━━━━━━━━━━━━━━━━━━━━━━━━\u001b[0m \u001b[32m43.7/43.7 kB\u001b[0m \u001b[31m4.7 MB/s\u001b[0m eta \u001b[36m0:00:00\u001b[0m\n",
            "\u001b[?25h  Downloading mdit_py_plugins-0.2.8-py3-none-any.whl (41 kB)\n",
            "\u001b[2K     \u001b[90m━━━━━━━━━━━━━━━━━━━━━━━━━━━━━━━━━━━━━━━━\u001b[0m \u001b[32m41.0/41.0 kB\u001b[0m \u001b[31m4.1 MB/s\u001b[0m eta \u001b[36m0:00:00\u001b[0m\n",
            "\u001b[?25h  Downloading mdit_py_plugins-0.2.7-py3-none-any.whl (41 kB)\n",
            "\u001b[2K     \u001b[90m━━━━━━━━━━━━━━━━━━━━━━━━━━━━━━━━━━━━━━━━\u001b[0m \u001b[32m41.0/41.0 kB\u001b[0m \u001b[31m4.2 MB/s\u001b[0m eta \u001b[36m0:00:00\u001b[0m\n",
            "\u001b[?25h  Downloading mdit_py_plugins-0.2.6-py3-none-any.whl (39 kB)\n",
            "  Downloading mdit_py_plugins-0.2.5-py3-none-any.whl (39 kB)\n",
            "INFO: pip is looking at multiple versions of mdit-py-plugins to determine which version is compatible with other requirements. This could take a while.\n",
            "  Downloading mdit_py_plugins-0.2.4-py3-none-any.whl (39 kB)\n",
            "  Downloading mdit_py_plugins-0.2.3-py3-none-any.whl (39 kB)\n",
            "  Downloading mdit_py_plugins-0.2.2-py3-none-any.whl (39 kB)\n",
            "  Downloading mdit_py_plugins-0.2.1-py3-none-any.whl (38 kB)\n",
            "  Downloading mdit_py_plugins-0.2.0-py3-none-any.whl (38 kB)\n",
            "INFO: This is taking longer than usual. You might need to provide the dependency resolver with stricter constraints to reduce runtime. See https://pip.pypa.io/warnings/backtracking for guidance. If you want to abort this run, press Ctrl + C.\n",
            "  Downloading mdit_py_plugins-0.1.0-py3-none-any.whl (37 kB)\n",
            "Collecting markdown-it-py[linkify]>=2.0.0 (from gradio)\n",
            "  Downloading markdown_it_py-3.0.0-py3-none-any.whl (87 kB)\n",
            "\u001b[2K     \u001b[90m━━━━━━━━━━━━━━━━━━━━━━━━━━━━━━━━━━━━━━━━\u001b[0m \u001b[32m87.5/87.5 kB\u001b[0m \u001b[31m9.9 MB/s\u001b[0m eta \u001b[36m0:00:00\u001b[0m\n",
            "\u001b[?25h  Downloading markdown_it_py-2.2.0-py3-none-any.whl (84 kB)\n",
            "\u001b[2K     \u001b[90m━━━━━━━━━━━━━━━━━━━━━━━━━━━━━━━━━━━━━━━━\u001b[0m \u001b[32m84.5/84.5 kB\u001b[0m \u001b[31m8.7 MB/s\u001b[0m eta \u001b[36m0:00:00\u001b[0m\n",
            "\u001b[?25hRequirement already satisfied: python-dateutil>=2.8.1 in /usr/local/lib/python3.10/dist-packages (from pandas->gradio) (2.8.2)\n",
            "Requirement already satisfied: pytz>=2020.1 in /usr/local/lib/python3.10/dist-packages (from pandas->gradio) (2022.7.1)\n",
            "Requirement already satisfied: click>=7.0 in /usr/local/lib/python3.10/dist-packages (from uvicorn>=0.14.0->gradio) (8.1.4)\n",
            "Collecting h11>=0.8 (from uvicorn>=0.14.0->gradio)\n",
            "  Downloading h11-0.14.0-py3-none-any.whl (58 kB)\n",
            "\u001b[2K     \u001b[90m━━━━━━━━━━━━━━━━━━━━━━━━━━━━━━━━━━━━━━━━\u001b[0m \u001b[32m58.3/58.3 kB\u001b[0m \u001b[31m6.2 MB/s\u001b[0m eta \u001b[36m0:00:00\u001b[0m\n",
            "\u001b[?25hRequirement already satisfied: attrs>=17.3.0 in /usr/local/lib/python3.10/dist-packages (from aiohttp->gradio) (23.1.0)\n",
            "Requirement already satisfied: charset-normalizer<4.0,>=2.0 in /usr/local/lib/python3.10/dist-packages (from aiohttp->gradio) (2.0.12)\n",
            "Requirement already satisfied: multidict<7.0,>=4.5 in /usr/local/lib/python3.10/dist-packages (from aiohttp->gradio) (6.0.4)\n",
            "Requirement already satisfied: async-timeout<5.0,>=4.0.0a3 in /usr/local/lib/python3.10/dist-packages (from aiohttp->gradio) (4.0.2)\n",
            "Requirement already satisfied: yarl<2.0,>=1.0 in /usr/local/lib/python3.10/dist-packages (from aiohttp->gradio) (1.9.2)\n",
            "Requirement already satisfied: frozenlist>=1.1.1 in /usr/local/lib/python3.10/dist-packages (from aiohttp->gradio) (1.3.3)\n",
            "Requirement already satisfied: aiosignal>=1.1.2 in /usr/local/lib/python3.10/dist-packages (from aiohttp->gradio) (1.3.1)\n",
            "Collecting starlette<0.28.0,>=0.27.0 (from fastapi->gradio)\n",
            "  Downloading starlette-0.27.0-py3-none-any.whl (66 kB)\n",
            "\u001b[2K     \u001b[90m━━━━━━━━━━━━━━━━━━━━━━━━━━━━━━━━━━━━━━━━\u001b[0m \u001b[32m67.0/67.0 kB\u001b[0m \u001b[31m7.2 MB/s\u001b[0m eta \u001b[36m0:00:00\u001b[0m\n",
            "\u001b[?25hRequirement already satisfied: certifi in /usr/local/lib/python3.10/dist-packages (from httpx->gradio) (2023.5.7)\n",
            "Collecting httpcore<0.18.0,>=0.15.0 (from httpx->gradio)\n",
            "  Downloading httpcore-0.17.3-py3-none-any.whl (74 kB)\n",
            "\u001b[2K     \u001b[90m━━━━━━━━━━━━━━━━━━━━━━━━━━━━━━━━━━━━━━━━\u001b[0m \u001b[32m74.5/74.5 kB\u001b[0m \u001b[31m8.3 MB/s\u001b[0m eta \u001b[36m0:00:00\u001b[0m\n",
            "\u001b[?25hRequirement already satisfied: idna in /usr/local/lib/python3.10/dist-packages (from httpx->gradio) (3.4)\n",
            "Requirement already satisfied: sniffio in /usr/local/lib/python3.10/dist-packages (from httpx->gradio) (1.3.0)\n",
            "Requirement already satisfied: contourpy>=1.0.1 in /usr/local/lib/python3.10/dist-packages (from matplotlib->gradio) (1.1.0)\n",
            "Requirement already satisfied: cycler>=0.10 in /usr/local/lib/python3.10/dist-packages (from matplotlib->gradio) (0.11.0)\n",
            "Requirement already satisfied: fonttools>=4.22.0 in /usr/local/lib/python3.10/dist-packages (from matplotlib->gradio) (4.40.0)\n",
            "Requirement already satisfied: kiwisolver>=1.0.1 in /usr/local/lib/python3.10/dist-packages (from matplotlib->gradio) (1.4.4)\n",
            "Requirement already satisfied: pyparsing>=2.3.1 in /usr/local/lib/python3.10/dist-packages (from matplotlib->gradio) (3.1.0)\n",
            "Requirement already satisfied: urllib3<1.27,>=1.21.1 in /usr/local/lib/python3.10/dist-packages (from requests->gradio) (1.26.16)\n",
            "Requirement already satisfied: anyio<5.0,>=3.0 in /usr/local/lib/python3.10/dist-packages (from httpcore<0.18.0,>=0.15.0->httpx->gradio) (3.7.1)\n",
            "Requirement already satisfied: pyrsistent!=0.17.0,!=0.17.1,!=0.17.2,>=0.14.0 in /usr/local/lib/python3.10/dist-packages (from jsonschema>=3.0->altair>=4.2.0->gradio) (0.19.3)\n",
            "Collecting uc-micro-py (from linkify-it-py<3,>=1->markdown-it-py[linkify]>=2.0.0->gradio)\n",
            "  Downloading uc_micro_py-1.0.2-py3-none-any.whl (6.2 kB)\n",
            "Requirement already satisfied: six>=1.5 in /usr/local/lib/python3.10/dist-packages (from python-dateutil>=2.8.1->pandas->gradio) (1.16.0)\n",
            "Requirement already satisfied: exceptiongroup in /usr/local/lib/python3.10/dist-packages (from anyio<5.0,>=3.0->httpcore<0.18.0,>=0.15.0->httpx->gradio) (1.1.2)\n",
            "Building wheels for collected packages: ffmpy\n",
            "  Building wheel for ffmpy (setup.py) ... \u001b[?25l\u001b[?25hdone\n",
            "  Created wheel for ffmpy: filename=ffmpy-0.3.0-py3-none-any.whl size=4694 sha256=318299fad6eeb1c26ce164988a9cd1701acbf8275f7c266d8955a8ab029e238f\n",
            "  Stored in directory: /root/.cache/pip/wheels/0c/c2/0e/3b9c6845c6a4e35beb90910cc70d9ac9ab5d47402bd62af0df\n",
            "Successfully built ffmpy\n",
            "Installing collected packages: pydub, ffmpy, websockets, uc-micro-py, semantic-version, python-multipart, orjson, markdown-it-py, h11, aiofiles, uvicorn, starlette, mdit-py-plugins, linkify-it-py, huggingface-hub, httpcore, httpx, fastapi, gradio-client, gradio\n",
            "  Attempting uninstall: markdown-it-py\n",
            "    Found existing installation: markdown-it-py 3.0.0\n",
            "    Uninstalling markdown-it-py-3.0.0:\n",
            "      Successfully uninstalled markdown-it-py-3.0.0\n",
            "Successfully installed aiofiles-23.1.0 fastapi-0.100.0 ffmpy-0.3.0 gradio-3.36.1 gradio-client-0.2.9 h11-0.14.0 httpcore-0.17.3 httpx-0.24.1 huggingface-hub-0.16.4 linkify-it-py-2.0.2 markdown-it-py-2.2.0 mdit-py-plugins-0.3.3 orjson-3.9.2 pydub-0.25.1 python-multipart-0.0.6 semantic-version-2.10.0 starlette-0.27.0 uc-micro-py-1.0.2 uvicorn-0.23.0 websockets-11.0.3\n"
          ]
        }
      ]
    },
    {
      "cell_type": "code",
      "execution_count": 25,
      "metadata": {
        "colab": {
          "base_uri": "https://localhost:8080/",
          "height": 650
        },
        "id": "Hww_62zJ3X6y",
        "outputId": "04278bce-afaf-4463-f90f-a60c897b92b6"
      },
      "outputs": [
        {
          "output_type": "stream",
          "name": "stderr",
          "text": [
            "<ipython-input-25-06f080ce9d84>:21: GradioUnusedKwargWarning: You have unused kwarg parameters in Interface, please remove them: {'enable_flagging': False}\n",
            "  interface = gr.Interface(fn=generate_html,\n"
          ]
        },
        {
          "output_type": "stream",
          "name": "stdout",
          "text": [
            "Colab notebook detected. To show errors in colab notebook, set debug=True in launch()\n",
            "Note: opening Chrome Inspector may crash demo inside Colab notebooks.\n",
            "\n",
            "To create a public link, set `share=True` in `launch()`.\n"
          ]
        },
        {
          "output_type": "display_data",
          "data": {
            "text/plain": [
              "<IPython.core.display.Javascript object>"
            ],
            "application/javascript": [
              "(async (port, path, width, height, cache, element) => {\n",
              "                        if (!google.colab.kernel.accessAllowed && !cache) {\n",
              "                            return;\n",
              "                        }\n",
              "                        element.appendChild(document.createTextNode(''));\n",
              "                        const url = await google.colab.kernel.proxyPort(port, {cache});\n",
              "\n",
              "                        const external_link = document.createElement('div');\n",
              "                        external_link.innerHTML = `\n",
              "                            <div style=\"font-family: monospace; margin-bottom: 0.5rem\">\n",
              "                                Running on <a href=${new URL(path, url).toString()} target=\"_blank\">\n",
              "                                    https://localhost:${port}${path}\n",
              "                                </a>\n",
              "                            </div>\n",
              "                        `;\n",
              "                        element.appendChild(external_link);\n",
              "\n",
              "                        const iframe = document.createElement('iframe');\n",
              "                        iframe.src = new URL(path, url).toString();\n",
              "                        iframe.height = height;\n",
              "                        iframe.allow = \"autoplay; camera; microphone; clipboard-read; clipboard-write;\"\n",
              "                        iframe.width = width;\n",
              "                        iframe.style.border = 0;\n",
              "                        element.appendChild(iframe);\n",
              "                    })(7865, \"/\", \"100%\", 500, false, window.element)"
            ]
          },
          "metadata": {}
        },
        {
          "output_type": "execute_result",
          "data": {
            "text/plain": []
          },
          "metadata": {},
          "execution_count": 25
        }
      ],
      "source": [
        "from gradio.utils import show_tip\n",
        "import gradio as gr\n",
        "\n",
        "# List of demo apps and their URLs\n",
        "demo_apps = {\n",
        "    \"Demo App 1\": \"https://example.com/demo_app_1\",\n",
        "    \"Demo App 2\": \"https://example.com/demo_app_2\",\n",
        "    \"Demo App 3\": \"https://example.com/demo_app_3\",\n",
        "    # Add more demo apps here\n",
        "}\n",
        "\n",
        "# Function to generate HTML for the links\n",
        "def generate_html():\n",
        "    links_html = \"\"\n",
        "    for name, app_url in demo_apps.items():\n",
        "        link = f'<a href=\"{app_url}\" target=\"_blank\">{name}</a><br>'\n",
        "        links_html += link\n",
        "    return f'<div>{links_html}</div>'\n",
        "\n",
        "# Create the main interface using HTML\n",
        "interface = gr.Interface(fn=generate_html,\n",
        "                         inputs=None,\n",
        "                         outputs=gr.HTML(),\n",
        "                         title=\"Demo Apps\",\n",
        "                         description=\"Click on the links below to explore different demo apps.\",\n",
        "                         live=True,\n",
        "                        enable_flagging= False)\n",
        "\n",
        "# Launch the Gradio app\n",
        "interface.launch(share=False)\n"
      ]
    },
    {
      "cell_type": "code",
      "source": [
        "import gradio as gr\n",
        "\n",
        "# List of demo apps and their URLs along with their corresponding icons\n",
        "demo_apps = {\n",
        "    \"Demo App 1\": {\"url\": \"https://example.com/demo_app_1\", \"icon\": \"\\U0001F4BB\"},  # Laptop emoji\n",
        "    \"Demo App 2\": {\"url\": \"https://example.com/demo_app_2\", \"icon\": \"\\U0001F3A5\"},  # Camera emoji\n",
        "    \"Demo App 3\": {\"url\": \"https://example.com/demo_app_3\", \"icon\": \"\\U0001F4C4\"},  # File folder emoji\n",
        "    \"Demo App 4\": {\"url\": \"https://example.com/demo_app_4\", \"icon\": \"\\U0001F4D6\"},  # Newspaper emoji\n",
        "    \"Demo App 5\": {\"url\": \"https://example.com/demo_app_5\", \"icon\": \"\\U0001F47E\"},  # Alien emoji\n",
        "    \"Demo App 6\": {\"url\": \"https://example.com/demo_app_6\", \"icon\": \"\\U0001F354\"},  # Hamburger emoji\n",
        "    \"Demo App 7\": {\"url\": \"https://example.com/demo_app_7\", \"icon\": \"\\U0001F680\"},  # Rocket emoji\n",
        "    \"Demo App 8\": {\"url\": \"https://example.com/demo_app_8\", \"icon\": \"\\U0001F680\"},  # Panda emoji\n",
        "    \"Demo App 9\": {\"url\": \"https://example.com/demo_app_9\", \"icon\": \"\\U0001F44D\"},  # Thumbs up emoji\n",
        "    \"Demo App 10\": {\"url\": \"https://example.com/demo_app_10\", \"icon\": \"\\U0001F336\"},  # Hot pepper emoji\n",
        "    # Add more demo apps here with their respective icons (find Unicode characters for your desired icons)\n",
        "}\n",
        "\n",
        "# Function to generate HTML for the links with icons and boxes\n",
        "def generate_html():\n",
        "    links_html = \"\"\n",
        "    for name, data in demo_apps.items():\n",
        "        app_url = data[\"url\"]\n",
        "        icon = data[\"icon\"]\n",
        "        box_html = f\"\"\"\n",
        "            <div style=\"\n",
        "                display: flex;\n",
        "                align-items: center;\n",
        "                border: 1px solid #ccc;\n",
        "                border-radius: 5px;\n",
        "                padding: 10px;\n",
        "                margin: 5px;\n",
        "            \">\n",
        "                <a href=\"{app_url}\" target=\"_blank\" style=\"font-size: 24px;\">{icon}</a>\n",
        "                <a href=\"{app_url}\" target=\"_blank\" style=\"margin-left: 10px;\">{name}</a>\n",
        "            </div>\n",
        "        \"\"\"\n",
        "        links_html += box_html\n",
        "    return f'<div>{links_html}</div>'\n",
        "\n",
        "# Create the main interface using HTML\n",
        "interface = gr.Interface(fn=generate_html,\n",
        "                         inputs=None,\n",
        "                         outputs=gr.HTML(),\n",
        "                         title=\"Demo Apps\",\n",
        "                         description=\"Click on the icons below to explore different demo apps.\",\n",
        "                         live=False,\n",
        "                         examples=None,  # Hide default \"Generate\" button\n",
        "                         enable_flagging=False)  # Hide default \"Flag\" button\n",
        "\n",
        "# Launch the Gradio app\n",
        "interface.launch(share=False)\n"
      ],
      "metadata": {
        "colab": {
          "base_uri": "https://localhost:8080/",
          "height": 650
        },
        "id": "sKQnkf3p3cJh",
        "outputId": "6d9c08ab-79ca-43fa-db25-880d3ea4925e"
      },
      "execution_count": 27,
      "outputs": [
        {
          "output_type": "stream",
          "name": "stderr",
          "text": [
            "<ipython-input-27-ae67a3dfddbc>:41: GradioUnusedKwargWarning: You have unused kwarg parameters in Interface, please remove them: {'enable_flagging': False}\n",
            "  interface = gr.Interface(fn=generate_html,\n"
          ]
        },
        {
          "output_type": "stream",
          "name": "stdout",
          "text": [
            "Colab notebook detected. To show errors in colab notebook, set debug=True in launch()\n",
            "Note: opening Chrome Inspector may crash demo inside Colab notebooks.\n",
            "\n",
            "To create a public link, set `share=True` in `launch()`.\n"
          ]
        },
        {
          "output_type": "display_data",
          "data": {
            "text/plain": [
              "<IPython.core.display.Javascript object>"
            ],
            "application/javascript": [
              "(async (port, path, width, height, cache, element) => {\n",
              "                        if (!google.colab.kernel.accessAllowed && !cache) {\n",
              "                            return;\n",
              "                        }\n",
              "                        element.appendChild(document.createTextNode(''));\n",
              "                        const url = await google.colab.kernel.proxyPort(port, {cache});\n",
              "\n",
              "                        const external_link = document.createElement('div');\n",
              "                        external_link.innerHTML = `\n",
              "                            <div style=\"font-family: monospace; margin-bottom: 0.5rem\">\n",
              "                                Running on <a href=${new URL(path, url).toString()} target=\"_blank\">\n",
              "                                    https://localhost:${port}${path}\n",
              "                                </a>\n",
              "                            </div>\n",
              "                        `;\n",
              "                        element.appendChild(external_link);\n",
              "\n",
              "                        const iframe = document.createElement('iframe');\n",
              "                        iframe.src = new URL(path, url).toString();\n",
              "                        iframe.height = height;\n",
              "                        iframe.allow = \"autoplay; camera; microphone; clipboard-read; clipboard-write;\"\n",
              "                        iframe.width = width;\n",
              "                        iframe.style.border = 0;\n",
              "                        element.appendChild(iframe);\n",
              "                    })(7867, \"/\", \"100%\", 500, false, window.element)"
            ]
          },
          "metadata": {}
        },
        {
          "output_type": "execute_result",
          "data": {
            "text/plain": []
          },
          "metadata": {},
          "execution_count": 27
        }
      ]
    },
    {
      "cell_type": "code",
      "source": [
        "import gradio as gr\n",
        "\n",
        "# List of demo apps and their URLs along with their corresponding icons\n",
        "demo_apps = {\n",
        "    \"Demo App 1\": {\"url\": \"https://example.com/demo_app_1\", \"icon\": \"\\U0001F4BB\"},  # Laptop emoji\n",
        "    \"Demo App 2\": {\"url\": \"https://example.com/demo_app_2\", \"icon\": \"\\U0001F3A5\"},  # Camera emoji\n",
        "    \"Demo App 3\": {\"url\": \"https://example.com/demo_app_3\", \"icon\": \"\\U0001F4C4\"},  # File folder emoji\n",
        "    \"Demo App 4\": {\"url\": \"https://example.com/demo_app_4\", \"icon\": \"\\U0001F4D6\"},  # Newspaper emoji\n",
        "    \"Demo App 5\": {\"url\": \"https://example.com/demo_app_5\", \"icon\": \"\\U0001F47E\"},  # Alien emoji\n",
        "    \"Demo App 6\": {\"url\": \"https://example.com/demo_app_6\", \"icon\": \"\\U0001F354\"},  # Hamburger emoji\n",
        "    \"Demo App 7\": {\"url\": \"https://example.com/demo_app_7\", \"icon\": \"\\U0001F680\"},  # Rocket emoji\n",
        "    \"Demo App 8\": {\"url\": \"https://example.com/demo_app_8\", \"icon\": \"\\U0001F680\"},  # Panda emoji\n",
        "    \"Demo App 9\": {\"url\": \"https://example.com/demo_app_9\", \"icon\": \"\\U0001F44D\"},  # Thumbs up emoji\n",
        "    \"Demo App 10\": {\"url\": \"https://example.com/demo_app_10\", \"icon\": \"\\U0001F336\"},  # Hot pepper emoji\n",
        "    # Add more demo apps here with their respective icons (find Unicode characters for your desired icons)\n",
        "}\n",
        "\n",
        "# Function to generate rows for each demo app\n",
        "def generate_rows():\n",
        "    rows = []\n",
        "    for name, data in demo_apps.items():\n",
        "        app_url = data[\"url\"]\n",
        "        icon = data[\"icon\"]\n",
        "        row_html = gr.Row(gr.HTML(f'<a href=\"{app_url}\" target=\"_blank\" style=\"font-size: 24px;\">{icon}</a>'),\n",
        "                          gr.HTML(f'<a href=\"{app_url}\" target=\"_blank\" style=\"margin-left: 10px;\">{name}</a>'))\n",
        "        rows.append(row_html)\n",
        "    return rows\n",
        "\n",
        "# Create the main interface using rows and columns\n",
        "interface = gr.Interface(inputs=gr.Column(generate_rows()),\n",
        "                         outputs=None,\n",
        "                         title=\"Demo Apps\",\n",
        "                         description=\"Click on the icons below to explore different demo apps.\",\n",
        "                         live=False,\n",
        "                         examples=None,  # Hide default \"Generate\" button\n",
        "                         enable_flagging=False)  # Hide default \"Flag\" button\n",
        "\n",
        "# Launch the Gradio app\n",
        "interface.launch(share=False)\n"
      ],
      "metadata": {
        "colab": {
          "base_uri": "https://localhost:8080/",
          "height": 356
        },
        "id": "b1AkDBTR8KTx",
        "outputId": "6a7ee44e-7aad-4bb8-dfd6-341046c51d9e"
      },
      "execution_count": 31,
      "outputs": [
        {
          "output_type": "error",
          "ename": "TypeError",
          "evalue": "ignored",
          "traceback": [
            "\u001b[0;31m---------------------------------------------------------------------------\u001b[0m",
            "\u001b[0;31mTypeError\u001b[0m                                 Traceback (most recent call last)",
            "\u001b[0;32m<ipython-input-31-a7a66a9d9884>\u001b[0m in \u001b[0;36m<cell line: 30>\u001b[0;34m()\u001b[0m\n\u001b[1;32m     28\u001b[0m \u001b[0;34m\u001b[0m\u001b[0m\n\u001b[1;32m     29\u001b[0m \u001b[0;31m# Create the main interface using rows and columns\u001b[0m\u001b[0;34m\u001b[0m\u001b[0;34m\u001b[0m\u001b[0m\n\u001b[0;32m---> 30\u001b[0;31m interface = gr.Interface(inputs=gr.Column(generate_rows()),\n\u001b[0m\u001b[1;32m     31\u001b[0m                          \u001b[0moutputs\u001b[0m\u001b[0;34m=\u001b[0m\u001b[0;32mNone\u001b[0m\u001b[0;34m,\u001b[0m\u001b[0;34m\u001b[0m\u001b[0;34m\u001b[0m\u001b[0m\n\u001b[1;32m     32\u001b[0m                          \u001b[0mtitle\u001b[0m\u001b[0;34m=\u001b[0m\u001b[0;34m\"Demo Apps\"\u001b[0m\u001b[0;34m,\u001b[0m\u001b[0;34m\u001b[0m\u001b[0;34m\u001b[0m\u001b[0m\n",
            "\u001b[0;32m<ipython-input-31-a7a66a9d9884>\u001b[0m in \u001b[0;36mgenerate_rows\u001b[0;34m()\u001b[0m\n\u001b[1;32m     22\u001b[0m         \u001b[0mapp_url\u001b[0m \u001b[0;34m=\u001b[0m \u001b[0mdata\u001b[0m\u001b[0;34m[\u001b[0m\u001b[0;34m\"url\"\u001b[0m\u001b[0;34m]\u001b[0m\u001b[0;34m\u001b[0m\u001b[0;34m\u001b[0m\u001b[0m\n\u001b[1;32m     23\u001b[0m         \u001b[0micon\u001b[0m \u001b[0;34m=\u001b[0m \u001b[0mdata\u001b[0m\u001b[0;34m[\u001b[0m\u001b[0;34m\"icon\"\u001b[0m\u001b[0;34m]\u001b[0m\u001b[0;34m\u001b[0m\u001b[0;34m\u001b[0m\u001b[0m\n\u001b[0;32m---> 24\u001b[0;31m         row_html = gr.Row(gr.HTML(f'<a href=\"{app_url}\" target=\"_blank\" style=\"font-size: 24px;\">{icon}</a>'),\n\u001b[0m\u001b[1;32m     25\u001b[0m                           gr.HTML(f'<a href=\"{app_url}\" target=\"_blank\" style=\"margin-left: 10px;\">{name}</a>'))\n\u001b[1;32m     26\u001b[0m         \u001b[0mrows\u001b[0m\u001b[0;34m.\u001b[0m\u001b[0mappend\u001b[0m\u001b[0;34m(\u001b[0m\u001b[0mrow_html\u001b[0m\u001b[0;34m)\u001b[0m\u001b[0;34m\u001b[0m\u001b[0;34m\u001b[0m\u001b[0m\n",
            "\u001b[0;31mTypeError\u001b[0m: Row.__init__() takes 1 positional argument but 3 were given"
          ]
        }
      ]
    },
    {
      "cell_type": "code",
      "source": [
        "# Downloading files from the demo repo\n",
        "import os\n",
        "os.mkdir('images')\n",
        "!wget -q -O images/cheetah1.jpg https://github.com/gradio-app/gradio/raw/main/demo/image_mod/images/cheetah1.jpg\n",
        "!wget -q -O images/lion.jpg https://github.com/gradio-app/gradio/raw/main/demo/image_mod/images/lion.jpg\n",
        "!wget -q -O images/logo.png https://github.com/gradio-app/gradio/raw/main/demo/image_mod/images/logo.png\n",
        "!wget -q -O images/tower.jpg https://github.com/gradio-app/gradio/raw/main/demo/image_mod/images/tower.jpg"
      ],
      "metadata": {
        "id": "5Wq5DNtn_j9k"
      },
      "execution_count": 34,
      "outputs": []
    },
    {
      "cell_type": "code",
      "source": [
        "import gradio as gr\n",
        "import os\n",
        "\n",
        "\n",
        "def image_mod(image):\n",
        "    return image.rotate(45)\n",
        "\n",
        "\n",
        "demo = gr.Interface(\n",
        "    image_mod,\n",
        "    # gr.Image(type=\"pil\"),\n",
        "    # \"image\",\n",
        "    inputs=gr.Column(generate_rows()),\n",
        "    outputs=None,\n",
        "    # flagging_options=[\"blurry\", \"incorrect\", \"other\"],\n",
        "    examples=[\n",
        "        os.path.join(os.path.abspath(''), \"images/cheetah1.jpg\"),\n",
        "        os.path.join(os.path.abspath(''), \"images/lion.jpg\"),\n",
        "        os.path.join(os.path.abspath(''), \"images/logo.png\"),\n",
        "        os.path.join(os.path.abspath(''), \"images/tower.jpg\"),\n",
        "    ],\n",
        ")\n",
        "\n",
        "if __name__ == \"__main__\":\n",
        "    demo.launch()\n"
      ],
      "metadata": {
        "colab": {
          "base_uri": "https://localhost:8080/",
          "height": 356
        },
        "id": "dT9kl6LD80Wu",
        "outputId": "81c06c8c-13aa-49d1-de64-caa35bd7b50b"
      },
      "execution_count": 40,
      "outputs": [
        {
          "output_type": "error",
          "ename": "TypeError",
          "evalue": "ignored",
          "traceback": [
            "\u001b[0;31m---------------------------------------------------------------------------\u001b[0m",
            "\u001b[0;31mTypeError\u001b[0m                                 Traceback (most recent call last)",
            "\u001b[0;32m<ipython-input-40-4b63ee84b588>\u001b[0m in \u001b[0;36m<cell line: 9>\u001b[0;34m()\u001b[0m\n\u001b[1;32m     11\u001b[0m     \u001b[0;31m# gr.Image(type=\"pil\"),\u001b[0m\u001b[0;34m\u001b[0m\u001b[0;34m\u001b[0m\u001b[0m\n\u001b[1;32m     12\u001b[0m     \u001b[0;31m# \"image\",\u001b[0m\u001b[0;34m\u001b[0m\u001b[0;34m\u001b[0m\u001b[0m\n\u001b[0;32m---> 13\u001b[0;31m     \u001b[0minputs\u001b[0m\u001b[0;34m=\u001b[0m\u001b[0mgr\u001b[0m\u001b[0;34m.\u001b[0m\u001b[0mColumn\u001b[0m\u001b[0;34m(\u001b[0m\u001b[0mgenerate_rows\u001b[0m\u001b[0;34m(\u001b[0m\u001b[0;34m)\u001b[0m\u001b[0;34m)\u001b[0m\u001b[0;34m,\u001b[0m\u001b[0;34m\u001b[0m\u001b[0;34m\u001b[0m\u001b[0m\n\u001b[0m\u001b[1;32m     14\u001b[0m     \u001b[0moutputs\u001b[0m\u001b[0;34m=\u001b[0m\u001b[0;32mNone\u001b[0m\u001b[0;34m,\u001b[0m\u001b[0;34m\u001b[0m\u001b[0;34m\u001b[0m\u001b[0m\n\u001b[1;32m     15\u001b[0m     \u001b[0;31m# flagging_options=[\"blurry\", \"incorrect\", \"other\"],\u001b[0m\u001b[0;34m\u001b[0m\u001b[0;34m\u001b[0m\u001b[0m\n",
            "\u001b[0;32m<ipython-input-31-a7a66a9d9884>\u001b[0m in \u001b[0;36mgenerate_rows\u001b[0;34m()\u001b[0m\n\u001b[1;32m     22\u001b[0m         \u001b[0mapp_url\u001b[0m \u001b[0;34m=\u001b[0m \u001b[0mdata\u001b[0m\u001b[0;34m[\u001b[0m\u001b[0;34m\"url\"\u001b[0m\u001b[0;34m]\u001b[0m\u001b[0;34m\u001b[0m\u001b[0;34m\u001b[0m\u001b[0m\n\u001b[1;32m     23\u001b[0m         \u001b[0micon\u001b[0m \u001b[0;34m=\u001b[0m \u001b[0mdata\u001b[0m\u001b[0;34m[\u001b[0m\u001b[0;34m\"icon\"\u001b[0m\u001b[0;34m]\u001b[0m\u001b[0;34m\u001b[0m\u001b[0;34m\u001b[0m\u001b[0m\n\u001b[0;32m---> 24\u001b[0;31m         row_html = gr.Row(gr.HTML(f'<a href=\"{app_url}\" target=\"_blank\" style=\"font-size: 24px;\">{icon}</a>'),\n\u001b[0m\u001b[1;32m     25\u001b[0m                           gr.HTML(f'<a href=\"{app_url}\" target=\"_blank\" style=\"margin-left: 10px;\">{name}</a>'))\n\u001b[1;32m     26\u001b[0m         \u001b[0mrows\u001b[0m\u001b[0;34m.\u001b[0m\u001b[0mappend\u001b[0m\u001b[0;34m(\u001b[0m\u001b[0mrow_html\u001b[0m\u001b[0;34m)\u001b[0m\u001b[0;34m\u001b[0m\u001b[0;34m\u001b[0m\u001b[0m\n",
            "\u001b[0;31mTypeError\u001b[0m: Row.__init__() takes 1 positional argument but 3 were given"
          ]
        }
      ]
    },
    {
      "cell_type": "code",
      "source": [
        "demo_apps = {\n",
        "    \"Demo App 1\": {\"url\": \"https://example.com/demo_app_1\", \"icon\": \"\\U0001F4BB\"},  # Laptop emoji\n",
        "    \"Demo App 2\": {\"url\": \"https://example.com/demo_app_2\", \"icon\": \"\\U0001F3A5\"},  # Camera emoji\n",
        "    \"Demo App 3\": {\"url\": \"https://example.com/demo_app_3\", \"icon\": \"\\U0001F4C4\"},  # File folder emoji\n",
        "    \"Demo App 4\": {\"url\": \"https://example.com/demo_app_4\", \"icon\": \"\\U0001F4D6\"},  # Newspaper emoji\n",
        "    \"Demo App 5\": {\"url\": \"https://example.com/demo_app_5\", \"icon\": \"\\U0001F47E\"},  # Alien emoji\n",
        "    \"Demo App 6\": {\"url\": \"https://example.com/demo_app_6\", \"icon\": \"\\U0001F354\"},  # Hamburger emoji\n",
        "    \"Demo App 7\": {\"url\": \"https://example.com/demo_app_7\", \"icon\": \"\\U0001F680\"},  # Rocket emoji\n",
        "    \"Demo App 8\": {\"url\": \"https://example.com/demo_app_8\", \"icon\": \"\\U0001F680\"},  # Panda emoji\n",
        "    \"Demo App 9\": {\"url\": \"https://example.com/demo_app_9\", \"icon\": \"\\U0001F44D\"},  # Thumbs up emoji\n",
        "    \"Demo App 10\": {\"url\": \"https://example.com/demo_app_10\", \"icon\": \"\\U0001F336\"},  # Hot pepper emoji\n",
        "    # Add more demo apps here with their respective icons (find Unicode characters for your desired icons)\n",
        "}\n",
        "\n",
        "# Function to generate rows for each demo app\n",
        "# def generate_rows():\n",
        "#     rows = []\n",
        "#     for name, data in demo_apps.items():\n",
        "#         app_url = data[\"url\"]\n",
        "#         icon = data[\"icon\"]\n",
        "#         row_html = gr.Row(gr.HTML(f'<a href=\"{app_url}\" target=\"_blank\" style=\"font-size: 24px;\">{icon}</a>'),\n",
        "#                           gr.HTML(f'<a href=\"{app_url}\" target=\"_blank\" style=\"margin-left: 10px;\">{name}</a>'))\n",
        "#         rows.append(row_html)\n",
        "#     return rows"
      ],
      "metadata": {
        "id": "I1YHZ82iTOmo"
      },
      "execution_count": 45,
      "outputs": []
    },
    {
      "cell_type": "code",
      "source": [
        "import gradio as gr\n",
        "def update(name):\n",
        "    return f\"Welcome to Gradio, {name}!\"\n",
        "\n",
        "with gr.Blocks() as demo:\n",
        "        with gr.Row():\n",
        "              with gr.Column(scale=2):\n",
        "                  with gr.Box():\n",
        "                    demo_app1_url= demo_apps[\"Demo App 1\"][\"url\"]\n",
        "                    demo_app1_icon = demo_apps[\"Demo App 1\"][\"icon\"]\n",
        "                    gr.HTML(f'<a href=\"{demo_app1_url}\" target=\"_blank\" style=\"font-size: 24px;\">{demo_app1_icon}</a>'),\n",
        "                    gr.HTML(f'<a href=\"{demo_app1_url}\" target=\"_blank\" style=\"margin-left: 10px;\">Demo App Url</a>')\n",
        "\n",
        "                  with gr.Box():\n",
        "                    demo_app1_url= demo_apps[\"Demo App 1\"][\"url\"]\n",
        "                    demo_app1_icon = demo_apps[\"Demo App 1\"][\"icon\"]\n",
        "                    gr.HTML(f'<a href=\"{demo_app1_url}\" target=\"_blank\" style=\"font-size: 24px;\">{demo_app1_icon}</a>'),\n",
        "                    gr.HTML(f'<a href=\"{demo_app1_url}\" target=\"_blank\" style=\"margin-left: 10px;\">Demo App Url</a>')\n",
        "\n",
        "                  with gr.Box():\n",
        "                    demo_app1_url= demo_apps[\"Demo App 1\"][\"url\"]\n",
        "                    demo_app1_icon = demo_apps[\"Demo App 1\"][\"icon\"]\n",
        "                    gr.HTML(f'<a href=\"{demo_app1_url}\" target=\"_blank\" style=\"font-size: 24px;\">{demo_app1_icon}</a>'),\n",
        "                    gr.HTML(f'<a href=\"{demo_app1_url}\" target=\"_blank\" style=\"margin-left: 10px;\">Demo App Url</a>')\n",
        "\n",
        "                  with gr.Box():\n",
        "                    demo_app1_url= demo_apps[\"Demo App 1\"][\"url\"]\n",
        "                    demo_app1_icon = demo_apps[\"Demo App 1\"][\"icon\"]\n",
        "                    gr.HTML(f'<a href=\"{demo_app1_url}\" target=\"_blank\" style=\"font-size: 24px;\">{demo_app1_icon}</a>'),\n",
        "                    gr.HTML(f'<a href=\"{demo_app1_url}\" target=\"_blank\" style=\"margin-left: 10px;\">Demo App Url</a>')\n",
        "\n",
        "\n",
        "\n",
        "              with gr.Column(scale=2):\n",
        "                  with gr.Box():\n",
        "                    demo_app1_url= demo_apps[\"Demo App 1\"][\"url\"]\n",
        "                    demo_app1_icon = demo_apps[\"Demo App 1\"][\"icon\"]\n",
        "                    gr.HTML(f'<a href=\"{demo_app1_url}\" target=\"_blank\" style=\"font-size: 24px;\">{demo_app1_icon}</a>'),\n",
        "                    gr.HTML(f'<a href=\"{demo_app1_url}\" target=\"_blank\" style=\"margin-left: 10px;\">Demo App Url</a>')\n",
        "\n",
        "                  with gr.Box():\n",
        "                    demo_app1_url= demo_apps[\"Demo App 1\"][\"url\"]\n",
        "                    demo_app1_icon = demo_apps[\"Demo App 1\"][\"icon\"]\n",
        "                    gr.HTML(f'<a href=\"{demo_app1_url}\" target=\"_blank\" style=\"font-size: 24px;\">{demo_app1_icon}</a>'),\n",
        "                    gr.HTML(f'<a href=\"{demo_app1_url}\" target=\"_blank\" style=\"margin-left: 10px;\">Demo App Url</a>')\n",
        "\n",
        "                  with gr.Box():\n",
        "                    demo_app1_url= demo_apps[\"Demo App 1\"][\"url\"]\n",
        "                    demo_app1_icon = demo_apps[\"Demo App 1\"][\"icon\"]\n",
        "                    gr.HTML(f'<a href=\"{demo_app1_url}\" target=\"_blank\" style=\"font-size: 24px;\">{demo_app1_icon}</a>'),\n",
        "                    gr.HTML(f'<a href=\"{demo_app1_url}\" target=\"_blank\" style=\"margin-left: 10px;\">Demo App Url</a>')\n",
        "\n",
        "                  with gr.Box():\n",
        "                    demo_app1_url= demo_apps[\"Demo App 1\"][\"url\"]\n",
        "                    demo_app1_icon = demo_apps[\"Demo App 1\"][\"icon\"]\n",
        "                    gr.HTML(f'<a href=\"{demo_app1_url}\" target=\"_blank\" style=\"font-size: 24px;\">{demo_app1_icon}</a>'),\n",
        "                    gr.HTML(f'<a href=\"{demo_app1_url}\" target=\"_blank\" style=\"margin-left: 10px;\">Demo App Url</a>')\n",
        "\n",
        "\n",
        "              with gr.Column(scale=2):\n",
        "                  with gr.Box():\n",
        "                    demo_app1_url= demo_apps[\"Demo App 1\"][\"url\"]\n",
        "                    demo_app1_icon = demo_apps[\"Demo App 1\"][\"icon\"]\n",
        "                    gr.HTML(f'<a href=\"{demo_app1_url}\" target=\"_blank\" style=\"font-size: 24px;\">{demo_app1_icon}</a>'),\n",
        "                    gr.HTML(f'<a href=\"{demo_app1_url}\" target=\"_blank\" style=\"margin-left: 10px;\">Demo App Url</a>')\n",
        "\n",
        "                  with gr.Box():\n",
        "                    demo_app1_url= demo_apps[\"Demo App 1\"][\"url\"]\n",
        "                    demo_app1_icon = demo_apps[\"Demo App 1\"][\"icon\"]\n",
        "                    gr.HTML(f'<a href=\"{demo_app1_url}\" target=\"_blank\" style=\"font-size: 24px;\">{demo_app1_icon}</a>'),\n",
        "                    gr.HTML(f'<a href=\"{demo_app1_url}\" target=\"_blank\" style=\"margin-left: 10px;\">Demo App Url</a>')\n",
        "\n",
        "                  with gr.Box():\n",
        "                    demo_app1_url= demo_apps[\"Demo App 1\"][\"url\"]\n",
        "                    demo_app1_icon = demo_apps[\"Demo App 1\"][\"icon\"]\n",
        "                    gr.HTML(f'<a href=\"{demo_app1_url}\" target=\"_blank\" style=\"font-size: 24px;\">{demo_app1_icon}</a>'),\n",
        "                    gr.HTML(f'<a href=\"{demo_app1_url}\" target=\"_blank\" style=\"margin-left: 10px;\">Demo App Url</a>')\n",
        "\n",
        "                  with gr.Box():\n",
        "                    demo_app1_url= demo_apps[\"Demo App 1\"][\"url\"]\n",
        "                    demo_app1_icon = demo_apps[\"Demo App 1\"][\"icon\"]\n",
        "                    gr.HTML(f'<a href=\"{demo_app1_url}\" target=\"_blank\" style=\"font-size: 24px;\">{demo_app1_icon}</a>'),\n",
        "                    gr.HTML(f'<a href=\"{demo_app1_url}\" target=\"_blank\" style=\"margin-left: 10px;\">Demo App Url</a>')\n",
        "\n",
        "#\n",
        "          # gr.Markdown(\"Start typing below and then click **Run** to see the output.\")\n",
        "\n",
        "    #     inp = gr.Textbox(placeholder=\"What is your name?\")\n",
        "    #     out = gr.Textbox()\n",
        "    # btn = gr.Button(\"Run\")\n",
        "    # btn.click(fn=update, inputs=inp, outputs=out)\n",
        "\n",
        "demo.launch()"
      ],
      "metadata": {
        "colab": {
          "base_uri": "https://localhost:8080/",
          "height": 616
        },
        "id": "ldvZ4ma3_bUU",
        "outputId": "53088eac-147c-4d04-bec2-9e9960ac46ed"
      },
      "execution_count": 60,
      "outputs": [
        {
          "output_type": "stream",
          "name": "stdout",
          "text": [
            "Colab notebook detected. To show errors in colab notebook, set debug=True in launch()\n",
            "Note: opening Chrome Inspector may crash demo inside Colab notebooks.\n",
            "\n",
            "To create a public link, set `share=True` in `launch()`.\n"
          ]
        },
        {
          "output_type": "display_data",
          "data": {
            "text/plain": [
              "<IPython.core.display.Javascript object>"
            ],
            "application/javascript": [
              "(async (port, path, width, height, cache, element) => {\n",
              "                        if (!google.colab.kernel.accessAllowed && !cache) {\n",
              "                            return;\n",
              "                        }\n",
              "                        element.appendChild(document.createTextNode(''));\n",
              "                        const url = await google.colab.kernel.proxyPort(port, {cache});\n",
              "\n",
              "                        const external_link = document.createElement('div');\n",
              "                        external_link.innerHTML = `\n",
              "                            <div style=\"font-family: monospace; margin-bottom: 0.5rem\">\n",
              "                                Running on <a href=${new URL(path, url).toString()} target=\"_blank\">\n",
              "                                    https://localhost:${port}${path}\n",
              "                                </a>\n",
              "                            </div>\n",
              "                        `;\n",
              "                        element.appendChild(external_link);\n",
              "\n",
              "                        const iframe = document.createElement('iframe');\n",
              "                        iframe.src = new URL(path, url).toString();\n",
              "                        iframe.height = height;\n",
              "                        iframe.allow = \"autoplay; camera; microphone; clipboard-read; clipboard-write;\"\n",
              "                        iframe.width = width;\n",
              "                        iframe.style.border = 0;\n",
              "                        element.appendChild(iframe);\n",
              "                    })(7882, \"/\", \"100%\", 500, false, window.element)"
            ]
          },
          "metadata": {}
        },
        {
          "output_type": "execute_result",
          "data": {
            "text/plain": []
          },
          "metadata": {},
          "execution_count": 60
        }
      ]
    },
    {
      "cell_type": "code",
      "source": [],
      "metadata": {
        "id": "0muCkjpSS1l1"
      },
      "execution_count": null,
      "outputs": []
    }
  ]
}